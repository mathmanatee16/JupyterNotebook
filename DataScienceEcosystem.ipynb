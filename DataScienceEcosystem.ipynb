{
 "cells": [
  {
   "cell_type": "markdown",
   "id": "f23ae3e0-27b5-498a-98cf-c78f806c2f19",
   "metadata": {},
   "source": [
    "# Data Science Tools and Ecosystem "
   ]
  },
  {
   "cell_type": "markdown",
   "id": "caec093a-0c71-4e55-b2ff-744f9c6fa3f2",
   "metadata": {},
   "source": [
    "## In this notebook, Data Science Tools and Ecosystems are summarized."
   ]
  },
  {
   "cell_type": "markdown",
   "id": "8213bc0a-c051-4c71-82c0-fc3d0d4032d3",
   "metadata": {},
   "source": [
    "### Some of the popular languages that Data Scientists use are:\n",
    "1. Python\n",
    "2. SQL\n",
    "3. R\n",
    "4. Java\n",
    "5. C++"
   ]
  },
  {
   "cell_type": "markdown",
   "id": "1226632e-8e68-4b22-a06c-ca1ba7a97bb7",
   "metadata": {},
   "source": [
    "### Objectives:\n",
    "*Be able to list commonly used libraries by Data Scientists\n",
    "\n",
    "*Be able to list some data science tools\n",
    "\n",
    "*Be able to write and execute arithmetic expressions"
   ]
  },
  {
   "cell_type": "markdown",
   "id": "10a6cc89-416a-45f3-9dcc-26313dc17a5e",
   "metadata": {},
   "source": [
    "### Some of the commonly used libraries used by Data Scientists include:\n",
    "1. Numpy\n",
    "2. Pandas\n",
    "3. Matplotlib\n",
    "4. dplyr"
   ]
  },
  {
   "cell_type": "markdown",
   "id": "946058e5-90b8-40db-91a7-0f7c491fabb5",
   "metadata": {},
   "source": [
    "| Data Science Tools |\n",
    "| ------------------ |\n",
    "| Jupyter Lab |\n",
    "| Andaconda |\n",
    "| VisualStudio Code (VS) |\n"
   ]
  },
  {
   "cell_type": "markdown",
   "id": "f9ce4862-69ec-4bfe-b6c6-1576bbc4c55f",
   "metadata": {},
   "source": [
    "### Below are a few examples of evaluating arithmetic expressions in Python."
   ]
  },
  {
   "cell_type": "code",
   "execution_count": 1,
   "id": "063bd6a6-cdac-477f-8376-0640df097602",
   "metadata": {
    "tags": []
   },
   "outputs": [
    {
     "name": "stdout",
     "output_type": "stream",
     "text": [
      "17\n"
     ]
    }
   ],
   "source": [
    "#This is a simple arithmetic expression to multiply then add integers\n",
    "x=(3*4)+5\n",
    "print(x)"
   ]
  },
  {
   "cell_type": "markdown",
   "id": "d850e2ba-09ed-4ae9-be1b-00d40f3432e5",
   "metadata": {},
   "source": [
    "###Objectives:\n",
    "*"
   ]
  },
  {
   "cell_type": "code",
   "execution_count": 2,
   "id": "78777bf2-6ca9-4883-906a-f42dbcbc8488",
   "metadata": {
    "tags": []
   },
   "outputs": [
    {
     "name": "stdout",
     "output_type": "stream",
     "text": [
      "3.3333333333333335\n"
     ]
    }
   ],
   "source": [
    "#This will convert 200 minutes to hours by dividing by 60\n",
    "y=200/60\n",
    "print(y)"
   ]
  },
  {
   "cell_type": "markdown",
   "id": "26b6d911-16f1-4898-9d7f-806419528e62",
   "metadata": {},
   "source": [
    "## Author\n",
    "Ardhendu Chowdhury"
   ]
  }
 ],
 "metadata": {
  "kernelspec": {
   "display_name": "Python",
   "language": "python",
   "name": "conda-env-python-py"
  },
  "language_info": {
   "codemirror_mode": {
    "name": "ipython",
    "version": 3
   },
   "file_extension": ".py",
   "mimetype": "text/x-python",
   "name": "python",
   "nbconvert_exporter": "python",
   "pygments_lexer": "ipython3",
   "version": "3.7.12"
  }
 },
 "nbformat": 4,
 "nbformat_minor": 5
}
